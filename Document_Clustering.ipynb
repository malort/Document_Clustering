{
 "cells": [
  {
   "cell_type": "code",
   "execution_count": 1,
   "id": "93167315",
   "metadata": {},
   "outputs": [],
   "source": [
    "import numpy as np\n",
    "import string\n",
    "import re\n",
    "import nltk\n",
    "import pandas as pd\n",
    "import matplotlib.pyplot as plt\n",
    "import seaborn as sns\n",
    "import warnings\n",
    "from nltk.stem import WordNetLemmatizer\n",
    "from nltk.corpus import stopwords\n",
    "from nltk.stem.snowball import SnowballStemmer\n",
    "from gensim.models import Word2Vec\n",
    "from sklearn.metrics import confusion_matrix\n",
    "from sklearn.metrics import accuracy_score, roc_auc_score\n",
    "from sklearn.metrics import classification_report\n",
    "from sklearn.cluster import MiniBatchKMeans\n",
    "from sklearn.cluster import KMeans\n",
    "from sklearn.metrics import silhouette_samples, silhouette_score"
   ]
  },
  {
   "cell_type": "code",
   "execution_count": 2,
   "id": "2b96c9b0",
   "metadata": {},
   "outputs": [],
   "source": [
    "warnings.simplefilter(action='ignore', category=UserWarning)\n",
    "warnings.simplefilter(action='ignore', category=FutureWarning)\n",
    "pd.options.mode.chained_assignment = None"
   ]
  },
  {
   "cell_type": "code",
   "execution_count": 3,
   "id": "466b35b7",
   "metadata": {},
   "outputs": [],
   "source": [
    "df = pd.read_csv('train.csv')"
   ]
  },
  {
   "cell_type": "code",
   "execution_count": 4,
   "id": "3f1fb015",
   "metadata": {},
   "outputs": [
    {
     "data": {
      "text/html": [
       "<div>\n",
       "<style scoped>\n",
       "    .dataframe tbody tr th:only-of-type {\n",
       "        vertical-align: middle;\n",
       "    }\n",
       "\n",
       "    .dataframe tbody tr th {\n",
       "        vertical-align: top;\n",
       "    }\n",
       "\n",
       "    .dataframe thead th {\n",
       "        text-align: right;\n",
       "    }\n",
       "</style>\n",
       "<table border=\"1\" class=\"dataframe\">\n",
       "  <thead>\n",
       "    <tr style=\"text-align: right;\">\n",
       "      <th></th>\n",
       "      <th>ID</th>\n",
       "      <th>TITLE</th>\n",
       "      <th>ABSTRACT</th>\n",
       "      <th>Computer Science</th>\n",
       "      <th>Physics</th>\n",
       "      <th>Mathematics</th>\n",
       "      <th>Statistics</th>\n",
       "      <th>Quantitative Biology</th>\n",
       "      <th>Quantitative Finance</th>\n",
       "    </tr>\n",
       "  </thead>\n",
       "  <tbody>\n",
       "    <tr>\n",
       "      <th>0</th>\n",
       "      <td>1</td>\n",
       "      <td>Reconstructing Subject-Specific Effect Maps</td>\n",
       "      <td>Predictive models allow subject-specific inf...</td>\n",
       "      <td>1</td>\n",
       "      <td>0</td>\n",
       "      <td>0</td>\n",
       "      <td>0</td>\n",
       "      <td>0</td>\n",
       "      <td>0</td>\n",
       "    </tr>\n",
       "    <tr>\n",
       "      <th>1</th>\n",
       "      <td>2</td>\n",
       "      <td>Rotation Invariance Neural Network</td>\n",
       "      <td>Rotation invariance and translation invarian...</td>\n",
       "      <td>1</td>\n",
       "      <td>0</td>\n",
       "      <td>0</td>\n",
       "      <td>0</td>\n",
       "      <td>0</td>\n",
       "      <td>0</td>\n",
       "    </tr>\n",
       "    <tr>\n",
       "      <th>2</th>\n",
       "      <td>3</td>\n",
       "      <td>Spherical polyharmonics and Poisson kernels fo...</td>\n",
       "      <td>We introduce and develop the notion of spher...</td>\n",
       "      <td>0</td>\n",
       "      <td>0</td>\n",
       "      <td>1</td>\n",
       "      <td>0</td>\n",
       "      <td>0</td>\n",
       "      <td>0</td>\n",
       "    </tr>\n",
       "    <tr>\n",
       "      <th>3</th>\n",
       "      <td>4</td>\n",
       "      <td>A finite element approximation for the stochas...</td>\n",
       "      <td>The stochastic Landau--Lifshitz--Gilbert (LL...</td>\n",
       "      <td>0</td>\n",
       "      <td>0</td>\n",
       "      <td>1</td>\n",
       "      <td>0</td>\n",
       "      <td>0</td>\n",
       "      <td>0</td>\n",
       "    </tr>\n",
       "    <tr>\n",
       "      <th>4</th>\n",
       "      <td>5</td>\n",
       "      <td>Comparative study of Discrete Wavelet Transfor...</td>\n",
       "      <td>Fourier-transform infra-red (FTIR) spectra o...</td>\n",
       "      <td>1</td>\n",
       "      <td>0</td>\n",
       "      <td>0</td>\n",
       "      <td>1</td>\n",
       "      <td>0</td>\n",
       "      <td>0</td>\n",
       "    </tr>\n",
       "  </tbody>\n",
       "</table>\n",
       "</div>"
      ],
      "text/plain": [
       "   ID                                              TITLE  \\\n",
       "0   1        Reconstructing Subject-Specific Effect Maps   \n",
       "1   2                 Rotation Invariance Neural Network   \n",
       "2   3  Spherical polyharmonics and Poisson kernels fo...   \n",
       "3   4  A finite element approximation for the stochas...   \n",
       "4   5  Comparative study of Discrete Wavelet Transfor...   \n",
       "\n",
       "                                            ABSTRACT  Computer Science  \\\n",
       "0    Predictive models allow subject-specific inf...                 1   \n",
       "1    Rotation invariance and translation invarian...                 1   \n",
       "2    We introduce and develop the notion of spher...                 0   \n",
       "3    The stochastic Landau--Lifshitz--Gilbert (LL...                 0   \n",
       "4    Fourier-transform infra-red (FTIR) spectra o...                 1   \n",
       "\n",
       "   Physics  Mathematics  Statistics  Quantitative Biology  \\\n",
       "0        0            0           0                     0   \n",
       "1        0            0           0                     0   \n",
       "2        0            1           0                     0   \n",
       "3        0            1           0                     0   \n",
       "4        0            0           1                     0   \n",
       "\n",
       "   Quantitative Finance  \n",
       "0                     0  \n",
       "1                     0  \n",
       "2                     0  \n",
       "3                     0  \n",
       "4                     0  "
      ]
     },
     "execution_count": 4,
     "metadata": {},
     "output_type": "execute_result"
    }
   ],
   "source": [
    "df.head()"
   ]
  },
  {
   "cell_type": "code",
   "execution_count": 5,
   "id": "06bca7e9",
   "metadata": {},
   "outputs": [
    {
     "data": {
      "text/plain": [
       "(20972, 9)"
      ]
     },
     "execution_count": 5,
     "metadata": {},
     "output_type": "execute_result"
    }
   ],
   "source": [
    "df.shape"
   ]
  },
  {
   "cell_type": "code",
   "execution_count": 6,
   "id": "a0e79c3a",
   "metadata": {},
   "outputs": [
    {
     "data": {
      "text/plain": [
       "Index(['ID', 'TITLE', 'ABSTRACT', 'Computer Science', 'Physics', 'Mathematics',\n",
       "       'Statistics', 'Quantitative Biology', 'Quantitative Finance'],\n",
       "      dtype='object')"
      ]
     },
     "execution_count": 6,
     "metadata": {},
     "output_type": "execute_result"
    }
   ],
   "source": [
    "df.columns"
   ]
  },
  {
   "cell_type": "markdown",
   "id": "a61abe0b",
   "metadata": {},
   "source": [
    "### data manipulation"
   ]
  },
  {
   "cell_type": "code",
   "execution_count": 7,
   "id": "7e11dd4b",
   "metadata": {},
   "outputs": [
    {
     "name": "stdout",
     "output_type": "stream",
     "text": [
      "Computer Science 8594\n",
      "Physics 6013\n",
      "Mathematics 5618\n",
      "Statistics 5206\n",
      "Quantitative Biology 587\n",
      "Quantitative Finance 249\n"
     ]
    }
   ],
   "source": [
    "# count the number of documents per category \n",
    "for c in df[['Computer Science', 'Physics', 'Mathematics', 'Statistics', 'Quantitative Biology', 'Quantitative Finance']]:\n",
    "    print(c + \" \" + str(df[c].sum()))"
   ]
  },
  {
   "cell_type": "code",
   "execution_count": 8,
   "id": "98d92027",
   "metadata": {},
   "outputs": [],
   "source": [
    "# select observations from the three most common topics\n",
    "df2 = df[(df[\"Computer Science\"] == 1) | (df[\"Physics\"] == 1) | (df[\"Mathematics\"] == 1)]"
   ]
  },
  {
   "cell_type": "code",
   "execution_count": 9,
   "id": "23dc0240",
   "metadata": {},
   "outputs": [
    {
     "data": {
      "text/plain": [
       "(18551, 9)"
      ]
     },
     "execution_count": 9,
     "metadata": {},
     "output_type": "execute_result"
    }
   ],
   "source": [
    "df2.shape"
   ]
  },
  {
   "cell_type": "code",
   "execution_count": 10,
   "id": "e03b180f",
   "metadata": {},
   "outputs": [],
   "source": [
    "# drop unwanted variables \n",
    "df2.drop(['ID', 'Statistics', 'Quantitative Biology', 'Quantitative Finance'], axis=1, inplace=True)"
   ]
  },
  {
   "cell_type": "code",
   "execution_count": 11,
   "id": "91fd5ff8",
   "metadata": {},
   "outputs": [
    {
     "data": {
      "text/html": [
       "<div>\n",
       "<style scoped>\n",
       "    .dataframe tbody tr th:only-of-type {\n",
       "        vertical-align: middle;\n",
       "    }\n",
       "\n",
       "    .dataframe tbody tr th {\n",
       "        vertical-align: top;\n",
       "    }\n",
       "\n",
       "    .dataframe thead th {\n",
       "        text-align: right;\n",
       "    }\n",
       "</style>\n",
       "<table border=\"1\" class=\"dataframe\">\n",
       "  <thead>\n",
       "    <tr style=\"text-align: right;\">\n",
       "      <th></th>\n",
       "      <th>TITLE</th>\n",
       "      <th>ABSTRACT</th>\n",
       "      <th>Computer Science</th>\n",
       "      <th>Physics</th>\n",
       "      <th>Mathematics</th>\n",
       "    </tr>\n",
       "  </thead>\n",
       "  <tbody>\n",
       "    <tr>\n",
       "      <th>0</th>\n",
       "      <td>Reconstructing Subject-Specific Effect Maps</td>\n",
       "      <td>Predictive models allow subject-specific inf...</td>\n",
       "      <td>1</td>\n",
       "      <td>0</td>\n",
       "      <td>0</td>\n",
       "    </tr>\n",
       "  </tbody>\n",
       "</table>\n",
       "</div>"
      ],
      "text/plain": [
       "                                         TITLE  \\\n",
       "0  Reconstructing Subject-Specific Effect Maps   \n",
       "\n",
       "                                            ABSTRACT  Computer Science  \\\n",
       "0    Predictive models allow subject-specific inf...                 1   \n",
       "\n",
       "   Physics  Mathematics  \n",
       "0        0            0  "
      ]
     },
     "execution_count": 11,
     "metadata": {},
     "output_type": "execute_result"
    }
   ],
   "source": [
    "df2.head(1)"
   ]
  },
  {
   "cell_type": "code",
   "execution_count": 12,
   "id": "9fb494e8",
   "metadata": {},
   "outputs": [],
   "source": [
    "df2['sum'] = df2[['Computer Science', 'Physics', 'Mathematics']].agg('sum', axis=1)"
   ]
  },
  {
   "cell_type": "code",
   "execution_count": 13,
   "id": "1ac79d1e",
   "metadata": {},
   "outputs": [
    {
     "data": {
      "text/plain": [
       "1    16896\n",
       "2     1636\n",
       "3       19\n",
       "Name: sum, dtype: int64"
      ]
     },
     "execution_count": 13,
     "metadata": {},
     "output_type": "execute_result"
    }
   ],
   "source": [
    "# there are 1655 documents included in more than one category\n",
    "df2['sum'].value_counts()"
   ]
  },
  {
   "cell_type": "code",
   "execution_count": 14,
   "id": "be240ab0",
   "metadata": {},
   "outputs": [],
   "source": [
    "# delete docs included in more than one category\n",
    "df2 = df2.drop(df2[df2['sum'] != 1].index)"
   ]
  },
  {
   "cell_type": "code",
   "execution_count": 15,
   "id": "bf96e034",
   "metadata": {},
   "outputs": [
    {
     "data": {
      "text/plain": [
       "(16896, 6)"
      ]
     },
     "execution_count": 15,
     "metadata": {},
     "output_type": "execute_result"
    }
   ],
   "source": [
    "df2.shape"
   ]
  },
  {
   "cell_type": "code",
   "execution_count": 16,
   "id": "f0669c2e",
   "metadata": {},
   "outputs": [],
   "source": [
    "y = df2.drop(['TITLE', 'ABSTRACT', 'sum'], axis=1)"
   ]
  },
  {
   "cell_type": "code",
   "execution_count": 17,
   "id": "5551fe27",
   "metadata": {},
   "outputs": [
    {
     "data": {
      "text/plain": [
       "(16896, 3)"
      ]
     },
     "execution_count": 17,
     "metadata": {},
     "output_type": "execute_result"
    }
   ],
   "source": [
    "y.shape"
   ]
  },
  {
   "cell_type": "code",
   "execution_count": 18,
   "id": "c360bbaa",
   "metadata": {},
   "outputs": [
    {
     "data": {
      "text/html": [
       "<div>\n",
       "<style scoped>\n",
       "    .dataframe tbody tr th:only-of-type {\n",
       "        vertical-align: middle;\n",
       "    }\n",
       "\n",
       "    .dataframe tbody tr th {\n",
       "        vertical-align: top;\n",
       "    }\n",
       "\n",
       "    .dataframe thead th {\n",
       "        text-align: right;\n",
       "    }\n",
       "</style>\n",
       "<table border=\"1\" class=\"dataframe\">\n",
       "  <thead>\n",
       "    <tr style=\"text-align: right;\">\n",
       "      <th></th>\n",
       "      <th>Computer Science</th>\n",
       "      <th>Physics</th>\n",
       "      <th>Mathematics</th>\n",
       "    </tr>\n",
       "  </thead>\n",
       "  <tbody>\n",
       "    <tr>\n",
       "      <th>0</th>\n",
       "      <td>1</td>\n",
       "      <td>0</td>\n",
       "      <td>0</td>\n",
       "    </tr>\n",
       "  </tbody>\n",
       "</table>\n",
       "</div>"
      ],
      "text/plain": [
       "   Computer Science  Physics  Mathematics\n",
       "0                 1        0            0"
      ]
     },
     "execution_count": 18,
     "metadata": {},
     "output_type": "execute_result"
    }
   ],
   "source": [
    "y.head(1)"
   ]
  },
  {
   "cell_type": "code",
   "execution_count": 19,
   "id": "4ad0ef1f",
   "metadata": {},
   "outputs": [
    {
     "name": "stdout",
     "output_type": "stream",
     "text": [
      "Computer Science 7241\n",
      "Physics 5219\n",
      "Mathematics 4436\n"
     ]
    }
   ],
   "source": [
    "# final number of documents per category\n",
    "for c in y[['Computer Science', 'Physics', 'Mathematics']]:\n",
    "    print(c + \" \" + str(y[c].sum()))"
   ]
  },
  {
   "cell_type": "markdown",
   "id": "6c6d63fd",
   "metadata": {},
   "source": [
    "### Document preprocessing"
   ]
  },
  {
   "cell_type": "code",
   "execution_count": 20,
   "id": "ea001a3e",
   "metadata": {},
   "outputs": [],
   "source": [
    "df2['doc'] = df2.TITLE + df2.ABSTRACT"
   ]
  },
  {
   "cell_type": "code",
   "execution_count": 21,
   "id": "3d6c4f79",
   "metadata": {},
   "outputs": [],
   "source": [
    "df2.drop(df2.columns.difference(['doc']), 1, inplace=True)"
   ]
  },
  {
   "cell_type": "code",
   "execution_count": 22,
   "id": "873a1221",
   "metadata": {},
   "outputs": [
    {
     "data": {
      "text/html": [
       "<div>\n",
       "<style scoped>\n",
       "    .dataframe tbody tr th:only-of-type {\n",
       "        vertical-align: middle;\n",
       "    }\n",
       "\n",
       "    .dataframe tbody tr th {\n",
       "        vertical-align: top;\n",
       "    }\n",
       "\n",
       "    .dataframe thead th {\n",
       "        text-align: right;\n",
       "    }\n",
       "</style>\n",
       "<table border=\"1\" class=\"dataframe\">\n",
       "  <thead>\n",
       "    <tr style=\"text-align: right;\">\n",
       "      <th></th>\n",
       "      <th>doc</th>\n",
       "    </tr>\n",
       "  </thead>\n",
       "  <tbody>\n",
       "    <tr>\n",
       "      <th>0</th>\n",
       "      <td>Reconstructing Subject-Specific Effect Maps  P...</td>\n",
       "    </tr>\n",
       "  </tbody>\n",
       "</table>\n",
       "</div>"
      ],
      "text/plain": [
       "                                                 doc\n",
       "0  Reconstructing Subject-Specific Effect Maps  P..."
      ]
     },
     "execution_count": 22,
     "metadata": {},
     "output_type": "execute_result"
    }
   ],
   "source": [
    "df2.head(1)"
   ]
  },
  {
   "cell_type": "code",
   "execution_count": 23,
   "id": "e0012b58",
   "metadata": {},
   "outputs": [
    {
     "data": {
      "text/plain": [
       "'SPH calculations of Mars-scale collisions: the role of the Equation of State, material rheologies, and numerical effects  We model large-scale ($\\\\approx$2000km) impacts on a Mars-like planet using a\\nSmoothed Particle Hydrodynamics code. The effects of material strength and of\\nusing different Equations of State on the post-impact material and temperature\\ndistributions are investigated. The properties of the ejected material in terms\\nof escaping and disc mass are analysed as well. We also study potential\\nnumerical effects in the context of density discontinuities and rigid body\\nrotation. We find that in the large-scale collision regime considered here\\n(with impact velocities of 4km/s), the effect of material strength is\\nsubstantial for the post-impact distribution of the temperature and the\\nimpactor material, while the influence of the Equation of State is more subtle\\nand present only at very high temperatures.\\n'"
      ]
     },
     "execution_count": 23,
     "metadata": {},
     "output_type": "execute_result"
    }
   ],
   "source": [
    "df2.doc[8]"
   ]
  },
  {
   "cell_type": "code",
   "execution_count": 24,
   "id": "0b80bebe",
   "metadata": {},
   "outputs": [],
   "source": [
    "stopwords = nltk.corpus.stopwords.words('english')\n",
    "# Load lemmatizer\n",
    "lemmatizer = WordNetLemmatizer()\n",
    "# Load stemmer\n",
    "#stemmer = SnowballStemmer(\"english\")"
   ]
  },
  {
   "cell_type": "code",
   "execution_count": 25,
   "id": "37b410c5",
   "metadata": {},
   "outputs": [],
   "source": [
    "def clean_doc(doc):\n",
    "    # split into tokens by white space\n",
    "    tokens = doc.split()\n",
    "    # convert all words to lowercase\n",
    "    tokens = [tokens.lower() for tokens in tokens]\n",
    "    # prepare regex for char filtering\n",
    "    re_punc = re.compile('[%s]' % re.escape(string.punctuation))\n",
    "    # remove punctuation from each word\n",
    "    tokens = [re_punc.sub('', w) for w in tokens]\n",
    "    # remove remaining tokens that are not alphabetic\n",
    "    tokens = [word for word in tokens if word.isalpha()]\n",
    "    # filter out stop words\n",
    "    tokens = [w for w in tokens if not w in stopwords]\n",
    "    # filter out short tokens\n",
    "    tokens = [word for word in tokens if len(word) > 1]\n",
    "    # lemmatizer\n",
    "    tokens=[lemmatizer.lemmatize(word, pos='v') for word in tokens]\n",
    "    # stemming\n",
    "#    stems = [stemmer.stem(t) for t in tokens]\n",
    "#    tokens = ' '.join(tokens)\n",
    "    return tokens"
   ]
  },
  {
   "cell_type": "code",
   "execution_count": 26,
   "id": "3f50f635",
   "metadata": {},
   "outputs": [],
   "source": [
    "df2['doc'] = df2['doc'].apply(clean_doc)"
   ]
  },
  {
   "cell_type": "markdown",
   "id": "a85a5aa9",
   "metadata": {},
   "source": [
    "### Gensim"
   ]
  },
  {
   "cell_type": "code",
   "execution_count": 27,
   "id": "88b0b462",
   "metadata": {},
   "outputs": [],
   "source": [
    "tokenized_docs = df2[\"doc\"].to_numpy()"
   ]
  },
  {
   "cell_type": "code",
   "execution_count": 28,
   "id": "d125d0d1",
   "metadata": {},
   "outputs": [],
   "source": [
    "# train Word2Vec model based on tokenized documents. The sentence parameter expects list of lists.\n",
    "model = Word2Vec(sentences=tokenized_docs, vector_size=100, workers=4, seed=42)"
   ]
  },
  {
   "cell_type": "code",
   "execution_count": 29,
   "id": "53ae5b8a",
   "metadata": {},
   "outputs": [
    {
     "data": {
      "text/plain": [
       "[('vision', 0.9202690720558167),\n",
       " ('modern', 0.9132802486419678),\n",
       " ('robotics', 0.8576211929321289),\n",
       " ('neuroscience', 0.8483121991157532),\n",
       " ('ai', 0.846819281578064),\n",
       " ('industrial', 0.841512143611908),\n",
       " ('intelligence', 0.8331251740455627),\n",
       " ('science', 0.8291126489639282),\n",
       " ('scientific', 0.8141380548477173),\n",
       " ('genetics', 0.8124673962593079)]"
      ]
     },
     "execution_count": 29,
     "metadata": {},
     "output_type": "execute_result"
    }
   ],
   "source": [
    "# validate results by checking the similarity of relevant words. \n",
    "model.wv.most_similar(\"computer\")"
   ]
  },
  {
   "cell_type": "markdown",
   "id": "4ca0e5e0",
   "metadata": {},
   "source": [
    "### Create Document Vectors from Word Embedding"
   ]
  },
  {
   "cell_type": "code",
   "execution_count": 30,
   "id": "5e8ea088",
   "metadata": {},
   "outputs": [],
   "source": [
    "# Vectorize function, generates a feature vector per document using the average of the word vectors.\n",
    "def vectorize(list_of_docs, model):\n",
    "    features = []\n",
    "\n",
    "    for tokens in list_of_docs:\n",
    "        zero_vector = np.zeros(model.vector_size)\n",
    "        vectors = []\n",
    "        for token in tokens:\n",
    "            if token in model.wv:\n",
    "                try:\n",
    "                    vectors.append(model.wv[token])\n",
    "                except KeyError:\n",
    "                    continue\n",
    "        if vectors:\n",
    "            vectors = np.asarray(vectors)\n",
    "            avg_vec = vectors.mean(axis=0)\n",
    "            features.append(avg_vec)\n",
    "        else:\n",
    "            features.append(zero_vector)\n",
    "    return features"
   ]
  },
  {
   "cell_type": "code",
   "execution_count": 31,
   "id": "ef7f1b11",
   "metadata": {},
   "outputs": [
    {
     "data": {
      "text/plain": [
       "(16896, 100)"
      ]
     },
     "execution_count": 31,
     "metadata": {},
     "output_type": "execute_result"
    }
   ],
   "source": [
    "vectorized_docs = vectorize(tokenized_docs, model=model)\n",
    "len(vectorized_docs), len(vectorized_docs[0])"
   ]
  },
  {
   "cell_type": "markdown",
   "id": "1fe5586f",
   "metadata": {},
   "source": [
    "### Elbow method"
   ]
  },
  {
   "cell_type": "code",
   "execution_count": 32,
   "id": "5e928351",
   "metadata": {},
   "outputs": [
    {
     "data": {
      "image/png": "[encoded data removed]",
      "text/plain": [
       "<Figure size 432x288 with 1 Axes>"
      ]
     },
     "metadata": {
      "needs_background": "light"
     },
     "output_type": "display_data"
    }
   ],
   "source": [
    "Sum_of_squared_distances = []\n",
    "K = range(1,10)\n",
    "for k in K:\n",
    "    km = KMeans(n_clusters=k, max_iter=200, n_init=10)\n",
    "    km = km.fit(vectorized_docs)\n",
    "    Sum_of_squared_distances.append(km.inertia_)\n",
    "\n",
    "plt.plot(K, Sum_of_squared_distances, marker='o')\n",
    "plt.xlabel('k')\n",
    "plt.ylabel('Sum_of_squared_distances')\n",
    "plt.title('Elbow Method For Optimal k')\n",
    "plt.show()"
   ]
  },
  {
   "cell_type": "markdown",
   "id": "8f64958b",
   "metadata": {},
   "source": [
    "### MiniBatchKMeans"
   ]
  },
  {
   "cell_type": "code",
   "execution_count": 33,
   "id": "fff033b6",
   "metadata": {},
   "outputs": [
    {
     "name": "stdout",
     "output_type": "stream",
     "text": [
      "For n_clusters = 3\n",
      "Silhouette coefficient: 0.27\n",
      "Inertia:53613.00918652651\n"
     ]
    }
   ],
   "source": [
    "km = MiniBatchKMeans(n_clusters=3, batch_size=100).fit(vectorized_docs)\n",
    "print(f\"For n_clusters = {3}\")\n",
    "print(f\"Silhouette coefficient: {silhouette_score(vectorized_docs, km.labels_):0.2f}\")\n",
    "print(f\"Inertia:{km.inertia_}\")"
   ]
  },
  {
   "cell_type": "code",
   "execution_count": 34,
   "id": "1f4b404a",
   "metadata": {},
   "outputs": [],
   "source": [
    "# compute the Silhouette Coefficient for each sample\n",
    "sample_silhouette_values = silhouette_samples(vectorized_docs, km.labels_)"
   ]
  },
  {
   "cell_type": "code",
   "execution_count": 35,
   "id": "0f891354",
   "metadata": {},
   "outputs": [],
   "source": [
    "# create a dataframe to visualize the results\n",
    "ab = np.zeros((3,5))\n",
    "df_results = pd.DataFrame(ab, columns = ['Cluster_n', 'Size', 'Avg', 'Min', 'Max'])\n",
    "df_results = df_results.astype({'Cluster_n': 'int64', 'Size': 'int64'})"
   ]
  },
  {
   "cell_type": "code",
   "execution_count": 36,
   "id": "09cd1056",
   "metadata": {},
   "outputs": [
    {
     "name": "stdout",
     "output_type": "stream",
     "text": [
      "   Cluster_n  Size       Avg       Min       Max\n",
      "0          0  4407  0.237130 -0.069884  0.451846\n",
      "1          1  7792  0.269476 -0.020113  0.456283\n",
      "2          2  4697  0.314471  0.004777  0.504091\n"
     ]
    }
   ],
   "source": [
    "## size of the clusters, average, min and max Silhouette Coefficient per cluster\n",
    "for i in range(3):\n",
    "    cluster_silhouette_values = sample_silhouette_values[km.labels_ == i]\n",
    "    \n",
    "    df_results.iloc[i, 0] = i\n",
    "    df_results.iloc[i, 1] = cluster_silhouette_values.shape[0]\n",
    "    df_results.iloc[i, 2] = cluster_silhouette_values.mean(),\n",
    "    df_results.iloc[i, 3] = cluster_silhouette_values.min(),\n",
    "    df_results.iloc[i, 4] = cluster_silhouette_values.max()\n",
    "    \n",
    "print(df_results.head())"
   ]
  },
  {
   "cell_type": "code",
   "execution_count": 37,
   "id": "18a0ec8f",
   "metadata": {},
   "outputs": [],
   "source": [
    "df_clusters = pd.DataFrame({\n",
    "    \"text\": df2['doc'],\n",
    "    \"cluster\": km.labels_\n",
    "})"
   ]
  },
  {
   "cell_type": "code",
   "execution_count": 38,
   "id": "48649d52",
   "metadata": {},
   "outputs": [
    {
     "data": {
      "text/html": [
       "<div>\n",
       "<style scoped>\n",
       "    .dataframe tbody tr th:only-of-type {\n",
       "        vertical-align: middle;\n",
       "    }\n",
       "\n",
       "    .dataframe tbody tr th {\n",
       "        vertical-align: top;\n",
       "    }\n",
       "\n",
       "    .dataframe thead th {\n",
       "        text-align: right;\n",
       "    }\n",
       "</style>\n",
       "<table border=\"1\" class=\"dataframe\">\n",
       "  <thead>\n",
       "    <tr style=\"text-align: right;\">\n",
       "      <th></th>\n",
       "      <th>text</th>\n",
       "      <th>cluster</th>\n",
       "    </tr>\n",
       "  </thead>\n",
       "  <tbody>\n",
       "    <tr>\n",
       "      <th>0</th>\n",
       "      <td>[reconstruct, subjectspecific, effect, map, pr...</td>\n",
       "      <td>1</td>\n",
       "    </tr>\n",
       "    <tr>\n",
       "      <th>1</th>\n",
       "      <td>[rotation, invariance, neural, network, rotati...</td>\n",
       "      <td>1</td>\n",
       "    </tr>\n",
       "    <tr>\n",
       "      <th>2</th>\n",
       "      <td>[spherical, polyharmonics, poisson, kernels, p...</td>\n",
       "      <td>0</td>\n",
       "    </tr>\n",
       "    <tr>\n",
       "      <th>3</th>\n",
       "      <td>[finite, element, approximation, stochastic, m...</td>\n",
       "      <td>0</td>\n",
       "    </tr>\n",
       "  </tbody>\n",
       "</table>\n",
       "</div>"
      ],
      "text/plain": [
       "                                                text  cluster\n",
       "0  [reconstruct, subjectspecific, effect, map, pr...        1\n",
       "1  [rotation, invariance, neural, network, rotati...        1\n",
       "2  [spherical, polyharmonics, poisson, kernels, p...        0\n",
       "3  [finite, element, approximation, stochastic, m...        0"
      ]
     },
     "execution_count": 38,
     "metadata": {},
     "output_type": "execute_result"
    }
   ],
   "source": [
    "df_clusters.head(4)"
   ]
  },
  {
   "cell_type": "code",
   "execution_count": 39,
   "id": "a144a222",
   "metadata": {},
   "outputs": [
    {
     "data": {
      "text/plain": [
       "1    7792\n",
       "2    4697\n",
       "0    4407\n",
       "Name: cluster, dtype: int64"
      ]
     },
     "execution_count": 39,
     "metadata": {},
     "output_type": "execute_result"
    }
   ],
   "source": [
    "df_clusters['cluster'].value_counts()"
   ]
  },
  {
   "cell_type": "markdown",
   "id": "0c7965f2",
   "metadata": {},
   "source": [
    "### Quality review of clusters"
   ]
  },
  {
   "cell_type": "code",
   "execution_count": 50,
   "id": "8cc70a0b",
   "metadata": {},
   "outputs": [
    {
     "name": "stdout",
     "output_type": "stream",
     "text": [
      "Most representative terms per cluster:\n",
      "Cluster 0: extremal boundedness admissible congruences positivity equality eulers isoperimetric morse monomial \n",
      "Cluster 1: advise naïve goaloriented elicitation imputation kernelbased preferencebased divideandconquer extensibility grouplevel \n",
      "Cluster 2: hydrostatic photoinduced fluctuate isotope hadronic cw finitesize magnetostriction unphysical bagnold \n"
     ]
    }
   ],
   "source": [
    "# the word vectors closest to the clusters' centroids are the most representative terms per cluster.\n",
    "print(\"Most representative terms per cluster:\")\n",
    "for i in range(3):\n",
    "    tokens_per_cluster = \"\"\n",
    "    most_representative = model.wv.most_similar(positive=[km.cluster_centers_[i]], topn=10)\n",
    "    for t in most_representative:\n",
    "        tokens_per_cluster += f\"{t[0]} \"\n",
    "    print(f\"Cluster {i}: {tokens_per_cluster}\")"
   ]
  },
  {
   "cell_type": "code",
   "execution_count": 40,
   "id": "e49fc58c",
   "metadata": {},
   "outputs": [
    {
     "name": "stdout",
     "output_type": "stream",
     "text": [
      "Most representative documents per cluster:\n",
      "['local', 'formulas', 'ehrhart', 'coefficients', 'lattice', 'tile', 'show', 'mcmullen', 'coefficients', 'ehrhart', 'polynomial', 'lattice', 'polytope', 'write', 'weight', 'sum', 'facial', 'volumes', 'weight', 'local', 'formula', 'depend', 'outer', 'normal', 'con', 'face', 'far', 'unique', 'paper', 'develop', 'infinite', 'class', 'local', 'formulas', 'base', 'choices', 'fundamental', 'domains', 'sublattices', 'obtain', 'polyhedral', 'volume', 'computations', 'hereby', 'also', 'give', 'kind', 'geometric', 'interpretation', 'ehrhart', 'coefficients', 'since', 'construction', 'give', 'us', 'great', 'variety', 'possible', 'local', 'formulas', 'instance', 'choose', 'fit', 'well', 'give', 'polyhedral', 'symmetry', 'group', 'contrast', 'constructions', 'local', 'formulas', 'rely', 'triangulations', 'rational', 'con', 'simplicial', 'even', 'unimodular', 'ones']\n",
      "-------------\n",
      "['gamma', 'factor', 'intertwine', 'periods', 'distinction', 'inner', 'form', 'gln', 'let', 'padic', 'fied', 'quadratic', 'extension', 'fdivision', 'algebra', 'odd', 'index', 'set', 'hmathrmglmd', 'gmathrmglmdotimesf', 'carry', 'fine', 'study', 'local', 'intertwine', 'open', 'periods', 'attach', 'hdistinguished', 'induce', 'representations', 'inner', 'form', 'object', 'study', 'globally', 'citejlr', 'citelr', 'locally', 'give', 'sufficient', 'condition', 'local', 'intertwine', 'periods', 'singularities', 'localglobal', 'method', 'also', 'compute', 'term', 'asai', 'gamma', 'factor', 'proportionality', 'constants', 'involve', 'functional', 'equations', 'respect', 'certain', 'intertwine', 'operators', 'consequence', 'classify', 'distinguish', 'unitary', 'ladder', 'representations', 'extend', 'respectively', 'result', 'df', 'rely', 'crucial', 'step', 'theory', 'bernsteinzelevinsky', 'derivatives', 'make', 'use', 'one', 'main', 'result', 'set', 'case', 'group', 'assert', 'jacquetlanglands', 'correspondence', 'preserve', 'distinction', 'result', 'discrete', 'series', 'representations', 'method', 'fact', 'allow', 'us', 'use', 'cuspidal', 'representations']\n",
      "-------------\n",
      "['closure', 'operators', 'dcpos', 'examine', 'collective', 'properties', 'closure', 'operators', 'posets', 'least', 'dcpos', 'first', 'theorem', 'set', 'tone', 'paper', 'tell', 'set', 'preclosure', 'map', 'dcpo', 'determine', 'least', 'closure', 'operator', 'pronounce', 'relate', 'induction', 'principle', 'companion', 'obverse', 'induction', 'principle', 'use', 'theorem', 'prove', 'poset', 'closure', 'operators', 'dcpo', 'complete', 'lattice', 'provide', 'constructive', 'proof', 'tarskis', 'theorem', 'dcpos', 'go', 'construct', 'join', 'complete', 'lattice', 'scottcontinuous', 'closure', 'operators', 'dcpo', 'prove', 'complete', 'lattice', 'nuclei', 'preframe', 'frame', 'give', 'constructions', 'special', 'case', 'frame', 'nuclei', 'frame', 'rather', 'drawnout', 'proof', 'hofmannmislovejohnstone', 'theorem', 'show', 'utility', 'obverse', 'induction', 'apply', 'proof', 'crucial', 'lemma', 'shift', 'viewpoint', 'prove', 'result', 'analogous', 'result', 'dcpos', 'posets', 'certain', 'special', 'subsets', 'enough', 'maximal', 'elements', 'result', 'actually', 'specialize', 'dcpos', 'price', 'use', 'axiom', 'choice', 'conclude', 'point', 'two', 'convex', 'geometries', 'associate', 'closure', 'operators', 'dcpo']\n",
      "-------------\n"
     ]
    }
   ],
   "source": [
    "# the document vectors closest to the clusters' centroids are the most representative docs per cluster.\n",
    "test_cluster = 0\n",
    "print(\"Most representative documents per cluster:\")\n",
    "most_representative_docs = np.argsort(\n",
    "    np.linalg.norm(vectorized_docs - km.cluster_centers_[test_cluster], axis=1)\n",
    ")\n",
    "for d in most_representative_docs[:3]:\n",
    "    print(tokenized_docs[d])\n",
    "    print(\"-------------\")"
   ]
  },
  {
   "cell_type": "markdown",
   "id": "85a93f36",
   "metadata": {},
   "source": [
    "### Check predictions"
   ]
  },
  {
   "cell_type": "code",
   "execution_count": 41,
   "id": "15babba0",
   "metadata": {},
   "outputs": [],
   "source": [
    "# create new categorical variable from binary variables.\n",
    "y['cluster'] = y[['Computer Science', 'Physics', 'Mathematics']].idxmax(axis=1)"
   ]
  },
  {
   "cell_type": "code",
   "execution_count": 42,
   "id": "0212d5e5",
   "metadata": {},
   "outputs": [],
   "source": [
    "# map cluster labels, the numbers' equivalences have been inferred from the results of the most representative terms and docs. \n",
    "y['cluster'].replace({'Computer Science': 1, 'Physics': 2, 'Mathematics': 0}, inplace=True)"
   ]
  },
  {
   "cell_type": "code",
   "execution_count": 48,
   "id": "535e4a1f",
   "metadata": {},
   "outputs": [
    {
     "data": {
      "text/plain": [
       "Text(0.5, 1.0, 'Confusion Matrix')"
      ]
     },
     "execution_count": 48,
     "metadata": {},
     "output_type": "execute_result"
    },
    {
     "data": {
      "image/png": "[encoded data removed]",
      "text/plain": [
       "<Figure size 576x360 with 2 Axes>"
      ]
     },
     "metadata": {
      "needs_background": "light"
     },
     "output_type": "display_data"
    }
   ],
   "source": [
    "# confusion matrix\n",
    "cf_matrix=confusion_matrix(y['cluster'], df_clusters['cluster'])\n",
    "\n",
    "fig, ax = plt.subplots(figsize=(8,5)) \n",
    "sns.heatmap(cf_matrix, linewidths=1, annot=True, ax=ax, fmt='g', xticklabels=['Mathematics', 'Computer Science', 'Physics'], \n",
    "            yticklabels=['Mathematics', 'Computer Science', 'Physics'], cmap=\"Blues\")\n",
    "ax.set_xlabel(\"Predicted Topic\", fontsize=14)\n",
    "ax.set_ylabel(\"Real Topic\", fontsize=14)\n",
    "ax.set_title(\"Confusion Matrix\", fontsize=18)"
   ]
  },
  {
   "cell_type": "code",
   "execution_count": 46,
   "id": "0cc83c97",
   "metadata": {},
   "outputs": [
    {
     "name": "stdout",
     "output_type": "stream",
     "text": [
      "              precision    recall  f1-score   support\n",
      "\n",
      "           0       0.82      0.82      0.82      4436\n",
      "           1       0.85      0.92      0.88      7241\n",
      "           2       0.96      0.86      0.91      5219\n",
      "\n",
      "    accuracy                           0.87     16896\n",
      "   macro avg       0.88      0.87      0.87     16896\n",
      "weighted avg       0.88      0.87      0.87     16896\n",
      "\n"
     ]
    }
   ],
   "source": [
    "print(classification_report(y['cluster'], df_clusters['cluster']))"
   ]
  }
 ],
 "metadata": {
  "kernelspec": {
   "display_name": "Python 3 (ipykernel)",
   "language": "python",
   "name": "python3"
  },
  "language_info": {
   "codemirror_mode": {
    "name": "ipython",
    "version": 3
   },
   "file_extension": ".py",
   "mimetype": "text/x-python",
   "name": "python",
   "nbconvert_exporter": "python",
   "pygments_lexer": "ipython3",
   "version": "3.7.9"
  }
 },
 "nbformat": 4,
 "nbformat_minor": 5
}
